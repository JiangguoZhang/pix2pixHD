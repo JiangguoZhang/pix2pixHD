{
 "cells": [
  {
   "cell_type": "code",
   "execution_count": null,
   "id": "initial_id",
   "metadata": {
    "collapsed": true
   },
   "outputs": [],
   "source": [
    "import os\n",
    "import shutil\n",
    "\n",
    "def folder_reorganize(root, out_dir):\n",
    "    for i, k in enumerate(os.listdir(root)):\n",
    "        os.makedirs(os.path.join(out_dir, f\"train/group_{i}/{k}\"))\n",
    "        os.makedirs(os.path.join(out_dir, f\"train/group_{i}/1\"))\n",
    "        os.makedirs(os.path.join(out_dir, f\"test/group_{i}/{k}\"))\n",
    "        os.makedirs(os.path.join(out_dir, f\"test/group_{i}/1\"))\n",
    "        for order in range(5, 10):\n",
    "            for j in range(1, 91):\n",
    "                name1 = f'Filtered_{2**order}by{2**order}_seed={j * 2 ** (order - 5)}.tif'\n",
    "                name2 = f'GroundTruth_{2**order}by{2**order}_seed={j * 2 ** (order - 5)}.tif'\n",
    "                shutil.copy(os.path.join(root, k, name1), os.path.join(out_dir, f\"train/group_{i}/{k}/{2**order}by{2**order}_seed={j * 2 ** (order - 5)}.tif\"))\n",
    "\n",
    "                shutil.copy(os.path.join(root, k, name2), os.path.join(out_dir,\n",
    "                                                                       f\"train/group_{i}/1/{2 ** order}by{2 ** order}_seed={j * 2 ** (order - 5)}.tif\"))\n",
    "            \n",
    "            for j in range(91, 100):\n",
    "                name1 = f'Filtered_{2 ** order}by{2 ** order}_seed={j * 2 ** (order - 5)}.tif'\n",
    "                name2 = f'GroundTruth_{2 ** order}by{2 ** order}_seed={j * 2 ** (order - 5)}.tif'\n",
    "                shutil.copy(os.path.join(root, k, name1), os.path.join(out_dir,\n",
    "                                                                       f\"test/group_{i}/{k}/{2 ** order}by{2 ** order}_seed={j * 2 ** (order - 5)}.tif\"))\n",
    "    \n",
    "                shutil.copy(os.path.join(root, k, name2), os.path.join(out_dir,\n",
    "                                                                       f\"test/group_{i}/1/{2 ** order}by{2 ** order}_seed={j * 2 ** (order - 5)}.tif\"))\n",
    "\n",
    "        # for name in os.listdir(os.path.join(root, k)):\n",
    "        #     if name.startswith(\"Filtered\"):\n",
    "        #         shutil.copy(os.path.join(root, k, name), os.path.join(out_dir, f\"group_{i}/{k}\", name[9:]))\n",
    "        #     else:\n",
    "        #         shutil.copy(os.path.join(root, k, name), os.path.join(out_dir, f\"group_{i}/1\", name[12:]))\n",
    "\n",
    "folder_reorganize('/home/xavier/Documents/Tao-ImageSet/TotalSynthesizedImage/20230703/group1',\n",
    "                  '/home/xavier/Documents/Tao-ImageSet/TotalSynthesizedImage/20230703-dataset')\n"
   ]
  },
  {
   "cell_type": "code",
   "execution_count": null,
   "outputs": [],
   "source": [
    "import os\n",
    "import shutil\n",
    "\n",
    "def folder_reorganize(root, out_dir, remove_str='-slow'):\n",
    "    os.makedirs(out_dir)\n",
    "    for img_name in os.listdir(root):\n",
    "        new_name = img_name.replace(remove_str, '')\n",
    "        shutil.copy(os.path.join(root, img_name), os.path.join(out_dir, new_name))\n",
    "\n",
    "folder_reorganize('/home/xavier/Documents/Tao-ImageSet/old/Liver-t20us-1kby1k',\n",
    "                  '/home/xavier/Documents/Tao-ImageSet/Liver_images/group_0/1')\n"
   ],
   "metadata": {
    "collapsed": false
   },
   "id": "ad59d4653cd56e91"
  },
  {
   "cell_type": "code",
   "execution_count": 1,
   "outputs": [],
   "source": [
    "import os\n",
    "import shutil\n",
    "\n",
    "def folder_reorganize(root, out_dir):\n",
    "    for i, folder_name in enumerate(os.listdir(root)):\n",
    "        os.makedirs(os.path.join(out_dir, f\"train/group_{i}/0.189\"))\n",
    "        os.makedirs(os.path.join(out_dir, f\"train/group_{i}/1\"))\n",
    "        os.makedirs(os.path.join(out_dir, f\"test/group_{i}/0.189\"))\n",
    "        os.makedirs(os.path.join(out_dir, f\"test/group_{i}/1\"))\n",
    "        for img_name in os.listdir(os.path.join(root, folder_name)):\n",
    "            idx = int(img_name.split(\"_\")[-1].split(\".\")[0])\n",
    "            if idx > 90:\n",
    "                cla = 'test'\n",
    "            else:\n",
    "                cla = 'train'\n",
    "            if img_name.startswith(\"Filtered_\"):\n",
    "                k = 0.189\n",
    "            else:\n",
    "                k = 1\n",
    "            out_name = img_name.replace('Filtered_', \"\")\n",
    "            shutil.copy(os.path.join(root, folder_name, img_name), os.path.join(out_dir, f\"{cla}/group_{i}/{k}/{out_name}\"))\n",
    "\n",
    "folder_reorganize('/home/xavier/Documents/Tao-ImageSet/TotalSynthesizedImage/20230703/group2',\n",
    "                  '/home/xavier/Documents/Tao-ImageSet/TotalSynthesizedImage/20230703-dataset/random_walk')"
   ],
   "metadata": {
    "collapsed": false,
    "ExecuteTime": {
     "end_time": "2023-09-07T21:53:54.169695709Z",
     "start_time": "2023-09-07T21:53:50.401448836Z"
    }
   },
   "id": "e40fffe210a62936"
  },
  {
   "cell_type": "code",
   "execution_count": null,
   "outputs": [],
   "source": [
    "\n",
    "\n",
    "def train_test_split(root, out_dir):\n",
    "    return 0"
   ],
   "metadata": {
    "collapsed": false
   },
   "id": "6718af276a06d2ab"
  }
 ],
 "metadata": {
  "kernelspec": {
   "display_name": "Python 3",
   "language": "python",
   "name": "python3"
  },
  "language_info": {
   "codemirror_mode": {
    "name": "ipython",
    "version": 2
   },
   "file_extension": ".py",
   "mimetype": "text/x-python",
   "name": "python",
   "nbconvert_exporter": "python",
   "pygments_lexer": "ipython2",
   "version": "2.7.6"
  }
 },
 "nbformat": 4,
 "nbformat_minor": 5
}
